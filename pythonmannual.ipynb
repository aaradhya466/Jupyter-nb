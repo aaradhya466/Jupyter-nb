{
 "cells": [
  {
   "cell_type": "code",
   "execution_count": 1,
   "metadata": {},
   "outputs": [
    {
     "name": "stdout",
     "output_type": "stream",
     "text": [
      "Aaradhya\n",
      "Ringa Ringa Roses\n",
      "pocket full of roses\n"
     ]
    }
   ],
   "source": [
    "# PROGRAM 1\n",
    "a=\"Aaradhya\"\n",
    "b='''Ringa Ringa Roses\n",
    "pocket full of roses'''\n",
    "print(a)\n",
    "print(b)"
   ]
  },
  {
   "cell_type": "code",
   "execution_count": 1,
   "metadata": {},
   "outputs": [
    {
     "name": "stdout",
     "output_type": "stream",
     "text": [
      "The sum of three number is, 15\n"
     ]
    }
   ],
   "source": [
    "# PROGRAM 2\n",
    "num1=4\n",
    "num2=5\n",
    "num3=6\n",
    "sum=num1+num2+num3\n",
    "print(\"The sum of three number is,\" ,sum)"
   ]
  },
  {
   "cell_type": "code",
   "execution_count": 2,
   "metadata": {},
   "outputs": [
    {
     "name": "stdout",
     "output_type": "stream",
     "text": [
      "Which operation you want to perform?\n"
     ]
    }
   ],
   "source": [
    "# PROGRAM 3\n",
    "num1=90\n",
    "num2=10\n",
    "num3=10\n",
    "print(\"Which operation you want to perform?\")\n",
    "ch=input(\"Enter the operation (- * /)\")\n",
    "if ch == \"-\":\n",
    "   print(num1-num2-num3)\n",
    "elif ch == \"*\":\n",
    "   print(num1*num2*num3)\n",
    "else:\n",
    "   print(num1/num2/num3)"
   ]
  },
  {
   "cell_type": "code",
   "execution_count": 1,
   "metadata": {},
   "outputs": [
    {
     "name": "stdout",
     "output_type": "stream",
     "text": [
      "Remainder is,  0\n"
     ]
    }
   ],
   "source": [
    "# PROGRAM 4\n",
    "num1=10\n",
    "num2=5\n",
    "c=num1%num2\n",
    "print(\"Remainder is, \" ,c)"
   ]
  },
  {
   "cell_type": "code",
   "execution_count": null,
   "metadata": {},
   "outputs": [],
   "source": [
    "# PROGRAM 5\n",
    "a=input(\"Enter num1\")\n",
    "a=int(a)\n",
    "b=input(\"Enter num2\")\n",
    "b=int(b)\n",
    "if a<=b:\n",
    "    print(\"Num A is less than or equal to B\")\n",
    "elif a>=b:\n",
    "    print(\"Num A is greater than or equal to B\")\n",
    "else:\n",
    "    print(\"Num A is equal to Num B\")\n",
    "\n",
    "a = 10\n",
    "b = 10\n",
    "c = -10\n",
    " \n",
    "if a > 0 and b > 0:  \n",
    "    print(\"The numbers are greater than 0\")  \n",
    " \n",
    "if a > 0 and b > 0 and c > 0:  \n",
    "    print(\"The numbers are greater than 0\")  \n",
    "# else:  \n",
    "    print(\"Atleast one number is not greater than 0\")"
   ]
  },
  {
   "cell_type": "code",
   "execution_count": 2,
   "metadata": {},
   "outputs": [
    {
     "name": "stdout",
     "output_type": "stream",
     "text": [
      "<class 'str'>\n",
      "<class 'int'>\n",
      "<class 'float'>\n"
     ]
    }
   ],
   "source": [
    "# PROGRAM 6\n",
    "a=\"12\"\n",
    "b=12\n",
    "b=int(b)\n",
    "c=0.5\n",
    "print(type(a))\n",
    "print(type(b))\n",
    "print(type(c))"
   ]
  },
  {
   "cell_type": "code",
   "execution_count": 3,
   "metadata": {},
   "outputs": [
    {
     "name": "stdout",
     "output_type": "stream",
     "text": [
      "The average of two numbers is , 20.0\n"
     ]
    }
   ],
   "source": [
    "# PROGRAM 7\n",
    "a=10\n",
    "b=20\n",
    "avg=a+b/2\n",
    "print(\"The average of two numbers is ,\",avg)"
   ]
  },
  {
   "cell_type": "code",
   "execution_count": 4,
   "metadata": {},
   "outputs": [
    {
     "name": "stdout",
     "output_type": "stream",
     "text": [
      "Enter marks scored out of 100\n",
      "You have scored , 96.6 %\n"
     ]
    }
   ],
   "source": [
    "# PROGRAM 8\n",
    "print(\"Enter marks scored out of 100\")\n",
    "a=90\n",
    "b=98\n",
    "c=99\n",
    "d=100\n",
    "e=96\n",
    "f=a+b+c+d+e\n",
    "percentage=f/500*100\n",
    "print(\"You have scored ,\",percentage,\"%\")"
   ]
  },
  {
   "cell_type": "code",
   "execution_count": null,
   "metadata": {},
   "outputs": [],
   "source": [
    "# PROGRAM 9\n",
    "a=input(\"Enter your name\")\n",
    "print(\"Marks scored out of 100\")\n",
    "b=int(input(\"Sub 1\"))\n",
    "c=int(input(\"Sub 2\"))\n",
    "d=int(input(\"sub 3\"))\n",
    "e=b+c+d\n",
    "percentage= e/300*100\n",
    "print(a)\n",
    "print(\"You have scored : \",percentage,\"%\")"
   ]
  },
  {
   "cell_type": "code",
   "execution_count": null,
   "metadata": {},
   "outputs": [],
   "source": [
    "# PROGRAM 10\n",
    "letter = '''dear <|name|> \n",
    "You are selected! \n",
    "<|date|>'''  \n",
    "a=input(\"Enter your name\") \n",
    "b=input(\"Enter date\")       \n",
    "letter=letter.replace(\"<|name|>\",a)  \n",
    "letter=letter.replace(\"<|date|>\",b)   \n",
    "print(letter)"
   ]
  },
  {
   "cell_type": "code",
   "execution_count": 5,
   "metadata": {},
   "outputs": [
    {
     "name": "stdout",
     "output_type": "stream",
     "text": [
      "10\n"
     ]
    }
   ],
   "source": [
    "# PROGRAM 11\n",
    "a=\"My name is  Aaradhya\"\n",
    "print(a.find(\"  \"))"
   ]
  },
  {
   "cell_type": "code",
   "execution_count": 6,
   "metadata": {},
   "outputs": [
    {
     "name": "stdout",
     "output_type": "stream",
     "text": [
      "Python is a simple, \n"
     ]
    }
   ],
   "source": [
    "# PROGRAM 12\n",
    "a='''Python is a simple, general purpose, high level, and object-oriented programming language. \n",
    "The founder of python is Guido van Rossum.'''\n",
    "a=a[0:20]\n",
    "print(a)"
   ]
  },
  {
   "cell_type": "code",
   "execution_count": 9,
   "metadata": {},
   "outputs": [
    {
     "name": "stdout",
     "output_type": "stream",
     "text": [
      "ph  sp,er rs gle \n",
      "ph  sp,er rs gle \n",
      " elg sr re,ps  hp\n",
      "17\n",
      "0\n",
      " elg sr re,ps  hp\n",
      "-1\n",
      " elg sr re,ps  hp\n",
      "python is a simple, general purpose, high level, and object-oriented programming language.\n",
      "\n",
      "The founder of python is Guido van Rossum.\n"
     ]
    }
   ],
   "source": [
    "# PROGRAM 13\n",
    "a='''python is a simple, general purpose, high level, and object-oriented programming language. \n",
    "The founder of python is Guido van Rossum.'''\n",
    "a=a[0:50:3]\n",
    "print(a)\n",
    "a=a[0:]\n",
    "print(a)\n",
    "a=a[::-1]\n",
    "print(a)\n",
    "print(len(a))\n",
    "print(a.count(\"Rossum\"))\n",
    "print(a.capitalize())\n",
    "print(a.find(\"a\"))\n",
    "a=a.replace(\"high level\",\"open source\")\n",
    "print(a)\n",
    "a='''python is a simple, general purpose, high level, and object-oriented programming language.\\n\n",
    "The founder of python is Guido van Rossum.'''\n",
    "print(a)"
   ]
  },
  {
   "cell_type": "code",
   "execution_count": null,
   "metadata": {},
   "outputs": [],
   "source": [
    "# PROGRAM 14\n",
    "a=int(input(\"enter the base\"))\n",
    "b=int(input(\"Enter the exponent\"))\n",
    "print(a**b)"
   ]
  },
  {
   "cell_type": "code",
   "execution_count": 10,
   "metadata": {},
   "outputs": [
    {
     "name": "stdout",
     "output_type": "stream",
     "text": [
      "44\n"
     ]
    }
   ],
   "source": [
    "# PROGRAM 15\n",
    "a=4\n",
    "b=6\n",
    "c=5\n",
    "d=a*(b+c)\n",
    "print(d)"
   ]
  },
  {
   "cell_type": "code",
   "execution_count": 11,
   "metadata": {},
   "outputs": [
    {
     "name": "stdout",
     "output_type": "stream",
     "text": [
      "<class 'float'>\n",
      "8.5\n"
     ]
    }
   ],
   "source": [
    "# PROGRAM 16\n",
    "a=3\n",
    "b=1.5\n",
    "c=4\n",
    "d=a+b+c\n",
    "print(type(d))\n",
    "print(d)"
   ]
  },
  {
   "cell_type": "code",
   "execution_count": null,
   "metadata": {},
   "outputs": [],
   "source": [
    "# PROGRAM 17\n",
    "a=int(input(\"enter a number\"))\n",
    "square=a*a\n",
    "print(\"The square of number is :\", square)"
   ]
  },
  {
   "cell_type": "code",
   "execution_count": 13,
   "metadata": {},
   "outputs": [
    {
     "name": "stdout",
     "output_type": "stream",
     "text": [
      "e\n"
     ]
    }
   ],
   "source": [
    "# PROGRAM 18\n",
    "a=\"Hello\"\n",
    "a=a[1:2]\n",
    "print(a)\n",
    "\n"
   ]
  },
  {
   "cell_type": "code",
   "execution_count": 14,
   "metadata": {},
   "outputs": [
    {
     "name": "stdout",
     "output_type": "stream",
     "text": [
      "olleH\n"
     ]
    }
   ],
   "source": [
    "# PROGRAM 19\n",
    "a=\"Hello\"\n",
    "a=a[::-1]\n",
    "print(a)"
   ]
  },
  {
   "cell_type": "code",
   "execution_count": 15,
   "metadata": {},
   "outputs": [
    {
     "name": "stdout",
     "output_type": "stream",
     "text": [
      "o\n"
     ]
    }
   ],
   "source": [
    "# PROGRAM 20\n",
    "a=\"Hello\"\n",
    "a=a[-1]\n",
    "print(a)"
   ]
  },
  {
   "cell_type": "code",
   "execution_count": 17,
   "metadata": {},
   "outputs": [
    {
     "name": "stdout",
     "output_type": "stream",
     "text": [
      "My name is Aaradhya and I a 18 years old.\n"
     ]
    }
   ],
   "source": [
    "# PROGRAM 21\n",
    "name=\"Aaradhya\"\n",
    "age=18\n",
    "formatted_string = \"My name is {} and I a {} years old.\".format(name,age)\n",
    "print(formatted_string)"
   ]
  },
  {
   "cell_type": "code",
   "execution_count": 18,
   "metadata": {},
   "outputs": [
    {
     "name": "stdout",
     "output_type": "stream",
     "text": [
      "Item Number: 101, Quantity: 3, Price: $9.99\n"
     ]
    }
   ],
   "source": [
    "# PROGRAM 22\n",
    "quantity= 3\n",
    "item_number = 101\n",
    "price = 9.99\n",
    "formatted_string = \"Item Number: {}, Quantity: {}, Price: ${:.2f}\".format(item_number,quantity,price)\n",
    "print(formatted_string)"
   ]
  },
  {
   "cell_type": "code",
   "execution_count": null,
   "metadata": {},
   "outputs": [],
   "source": [
    "# PROGRAM 23\n",
    "print(\"Enter five fruits you like\")\n",
    "f1=input(\"Enter fruit 1\")\n",
    "f2=input(\"Enter fruit 2\")\n",
    "f3=input(\"Enter fruit 3\")\n",
    "f4=input(\"Enter fruit 4\")\n",
    "f5=input(\"Enter fruit 5\")\n",
    "list=[f1,f2,f3,f4,f5]\n",
    "print(list)"
   ]
  },
  {
   "cell_type": "code",
   "execution_count": null,
   "metadata": {},
   "outputs": [],
   "source": [
    "# PROGRAM 24\n",
    "print(\"Enter your marks\")\n",
    "f1=int(input(\"Enter marks\"))\n",
    "f2=int(input(\"Enter marks\"))\n",
    "f3=int(input(\"Enter marks\"))\n",
    "f4=int(input(\"Enter marks\"))\n",
    "f5=int(input(\"Enter marks\"))\n",
    "f6=int(input(\"Enter marks\"))\n",
    "list=[f1,f2,f3,f4,f5,f6]\n",
    "list.sort()\n",
    "print(list)"
   ]
  },
  {
   "cell_type": "code",
   "execution_count": 19,
   "metadata": {},
   "outputs": [
    {
     "ename": "TypeError",
     "evalue": "'tuple' object does not support item assignment",
     "output_type": "error",
     "traceback": [
      "\u001b[1;31m---------------------------------------------------------------------------\u001b[0m",
      "\u001b[1;31mTypeError\u001b[0m                                 Traceback (most recent call last)",
      "\u001b[1;32md:\\Aaradhya BCA\\Python home lab\\python.ipynb Cell 25\u001b[0m line \u001b[0;36m3\n\u001b[0;32m      <a href='vscode-notebook-cell:/d%3A/Aaradhya%20BCA/Python%20home%20lab/python.ipynb#X36sZmlsZQ%3D%3D?line=0'>1</a>\u001b[0m \u001b[39m# PROGRAM 25\u001b[39;00m\n\u001b[0;32m      <a href='vscode-notebook-cell:/d%3A/Aaradhya%20BCA/Python%20home%20lab/python.ipynb#X36sZmlsZQ%3D%3D?line=1'>2</a>\u001b[0m a\u001b[39m=\u001b[39m(\u001b[39m1\u001b[39m,\u001b[39m3\u001b[39m,\u001b[39m4\u001b[39m,\u001b[39m5\u001b[39m,\u001b[39m6\u001b[39m)\n\u001b[1;32m----> <a href='vscode-notebook-cell:/d%3A/Aaradhya%20BCA/Python%20home%20lab/python.ipynb#X36sZmlsZQ%3D%3D?line=2'>3</a>\u001b[0m a[\u001b[39m0\u001b[39;49m]\u001b[39m=\u001b[39m\u001b[39m9\u001b[39m\n\u001b[0;32m      <a href='vscode-notebook-cell:/d%3A/Aaradhya%20BCA/Python%20home%20lab/python.ipynb#X36sZmlsZQ%3D%3D?line=3'>4</a>\u001b[0m \u001b[39mprint\u001b[39m(a)\n",
      "\u001b[1;31mTypeError\u001b[0m: 'tuple' object does not support item assignment"
     ]
    }
   ],
   "source": [
    "# PROGRAM 25\n",
    "a=(1,3,4,5,6)\n",
    "a[0]=9\n",
    "print(a)"
   ]
  },
  {
   "cell_type": "code",
   "execution_count": 20,
   "metadata": {},
   "outputs": [
    {
     "name": "stdout",
     "output_type": "stream",
     "text": [
      "10\n"
     ]
    }
   ],
   "source": [
    "# PROGRAM 26\n",
    "a=[1,2,3,4]\n",
    "print(a[0]+a[1]+a[2]+a[3])"
   ]
  },
  {
   "cell_type": "code",
   "execution_count": 21,
   "metadata": {},
   "outputs": [
    {
     "name": "stdout",
     "output_type": "stream",
     "text": [
      "4\n"
     ]
    }
   ],
   "source": [
    "# PROGRAM 27\n",
    "A = (7,0,0,3,9,8,0,6,0) \n",
    "print(A.count(0))"
   ]
  },
  {
   "cell_type": "code",
   "execution_count": 22,
   "metadata": {},
   "outputs": [
    {
     "name": "stdout",
     "output_type": "stream",
     "text": [
      "the modified list is :  [5, 2, 3, 4, 1]\n"
     ]
    }
   ],
   "source": [
    "# PROGRAM 28\n",
    "l=[1,2,3,4,5]\n",
    "l[0]=5\n",
    "l[4]=1\n",
    "print(\"the modified list is : \",l)"
   ]
  },
  {
   "cell_type": "code",
   "execution_count": 23,
   "metadata": {},
   "outputs": [
    {
     "name": "stdout",
     "output_type": "stream",
     "text": [
      "5\n"
     ]
    }
   ],
   "source": [
    "# PROGRAM 29\n",
    "a=[1,2,3,4,5,]\n",
    "print(len(a))"
   ]
  },
  {
   "cell_type": "code",
   "execution_count": 24,
   "metadata": {},
   "outputs": [
    {
     "name": "stdout",
     "output_type": "stream",
     "text": [
      "[1, 3, 4, 5, 6, 7]\n"
     ]
    }
   ],
   "source": [
    "# PROGRAM 30\n",
    "a=[1,3,4,5,6,7]\n",
    "copied_list=a[:]\n",
    "print(copied_list)"
   ]
  },
  {
   "cell_type": "code",
   "execution_count": null,
   "metadata": {},
   "outputs": [],
   "source": [
    "# PROGRAM 31\n",
    "dict={\n",
    "    \"Grahan\":\"To intake or Eclipse\",\n",
    "    \"Bhakbhak Gadi\":\"Train\",\n",
    "    \"Bhakbhak Adda\":\"Raliway Station\",\n",
    "    \"Gol gattam lakkad bagamn de dana dan pratiyogita\":\"Cricket\",\n",
    "}\n",
    "print(\"You have the following options\\n\",dict.keys())\n",
    "a=input(\"Enter a hindi word to know english translation\\n\")\n",
    "print(\"Your translation is :\",dict.get(a))"
   ]
  },
  {
   "cell_type": "code",
   "execution_count": null,
   "metadata": {},
   "outputs": [],
   "source": [
    "# PROGRAM 32\n",
    "print(\"The the numbers\\n\")\n",
    "a=int(input(\"Enter number 1\"))\n",
    "b=int(input(\"Enter number 2\"))\n",
    "c=int(input(\"Enter number 3\"))\n",
    "d=int(input(\"Enter number 4\"))\n",
    "e=int(input(\"Enter number 5\"))\n",
    "f=int(input(\"Enter number 6\"))\n",
    "g=int(input(\"Enter number 7\"))\n",
    "h=int(input(\"Enter number 8\"))\n",
    "set={a,b,c,d,e,f,g,h}\n",
    "print(set)"
   ]
  },
  {
   "cell_type": "code",
   "execution_count": 25,
   "metadata": {},
   "outputs": [
    {
     "name": "stdout",
     "output_type": "stream",
     "text": [
      "{34, '20', 20, 12}\n"
     ]
    }
   ],
   "source": [
    "# PROGRAM 33\n",
    "set={20,12,34,\"20\"}\n",
    "print(set)\n",
    "#Yes we can store 20(int) and \"20\"(str) in a single set beacuse one is an integer and other is a string"
   ]
  },
  {
   "cell_type": "code",
   "execution_count": null,
   "metadata": {},
   "outputs": [],
   "source": [
    "# PROGRAM 34\n",
    "S={}\n",
    "print(type(S))"
   ]
  },
  {
   "cell_type": "code",
   "execution_count": null,
   "metadata": {},
   "outputs": [],
   "source": [
    "# PROGRAM 35\n",
    "flang={}\n",
    "a=input(\"Enter your fav language Aaradhya\\n\")\n",
    "b=input(\"Enter your fav language Namish\\n\")\n",
    "c=input(\"Enter your fav language Deepa\\n\")\n",
    "d=input(\"Enter your fav language Priya\\n\")\n",
    "e=input(\"Enter your fav language Jahanvi\\n\")\n",
    "flang['Aaradhya']=a\n",
    "flang['Namish']=b\n",
    "flang['Deepa']=c\n",
    "flang['Priya']=d\n",
    "flang['Jahanvi']=e\n",
    "print(flang)"
   ]
  },
  {
   "cell_type": "code",
   "execution_count": null,
   "metadata": {},
   "outputs": [],
   "source": [
    "# PROGRAM 36\n",
    "a=int(input(\"Enter num1\\n\"))\n",
    "b=int(input(\"Enter num2\\n\"))\n",
    "c=int(input(\"Enter num3\\n\"))\n",
    "d=int(input(\"Enter num4\\n\"))\n",
    "if a>b and a>c and a>d:\n",
    "    print(\"Num1 is greatest among all\")\n",
    "elif b>a and b>c and b>d:\n",
    "    print(\"Num2 is greatest among all\")\n",
    "elif c>a and c>b and c>d:\n",
    "    print(\"Num3 is greatest among all\")\n",
    "elif a==b and a==c and a==d:\n",
    "    print(\"All numbers are equal\")\n",
    "else:\n",
    "    print(\"Num4 is greatest among all\")"
   ]
  },
  {
   "cell_type": "code",
   "execution_count": null,
   "metadata": {},
   "outputs": [],
   "source": [
    "# PROGRAM 37\n",
    "a=int(input(\"Enter total percentage you have scored inorder to know your grades\\n\"))\n",
    "if a>=90 and a<=100:\n",
    "    print(\"A\")\n",
    "elif a>=80 and a<=89:\n",
    "    print(\"B\")\n",
    "elif a>=70 and a<=79:\n",
    "    print(\"C\")\n",
    "elif a>=60 and a<=69:\n",
    "    print(\"D\")\n",
    "elif a>=50 and a<=59:\n",
    "    print(\"E\")\n",
    "else:\n",
    "    print(\"F\")"
   ]
  },
  {
   "cell_type": "code",
   "execution_count": 31,
   "metadata": {},
   "outputs": [
    {
     "name": "stdout",
     "output_type": "stream",
     "text": [
      "Enter marks scored by you out of 100 in each subject\t\n",
      "You have scored : 96.33333333333334 %\n",
      "Congratulations!You are Pass\n"
     ]
    }
   ],
   "source": [
    "# PROGRAM 38\n",
    "print(\"Enter marks scored by you out of 100 in each subject\\t\")\n",
    "# a=float(input(\"Enter marks scored in English\\n\"))\n",
    "# b=float(input(\"Enter marks scored in Maths\\n\"))\n",
    "# c=float(input(\"Enter marks scored in Science\\n\"))\n",
    "# consider\n",
    "a=100\n",
    "b=89\n",
    "c=100\n",
    "d=a+b+c\n",
    "per=d/300*100\n",
    "print(\"You have scored :\" ,per,\"%\")\n",
    "if(a<35 and b<35 and c<35 and per<40):\n",
    "    print(\"You are fail\")\n",
    "else:\n",
    "    print(\"Congratulations!You are Pass\")"
   ]
  },
  {
   "cell_type": "code",
   "execution_count": 26,
   "metadata": {},
   "outputs": [
    {
     "name": "stdout",
     "output_type": "stream",
     "text": [
      "The number is even\n"
     ]
    }
   ],
   "source": [
    "# PROGRAM 39\n",
    "a=10\n",
    "if a%2==0:\n",
    "    print(\"The number is even\")\n",
    "elif a%2!=0:\n",
    "    print(\"The number is odd\")"
   ]
  },
  {
   "cell_type": "code",
   "execution_count": 28,
   "metadata": {},
   "outputs": [
    {
     "ename": "TypeError",
     "evalue": "unhashable type: 'list'",
     "output_type": "error",
     "traceback": [
      "\u001b[1;31m---------------------------------------------------------------------------\u001b[0m",
      "\u001b[1;31mTypeError\u001b[0m                                 Traceback (most recent call last)",
      "\u001b[1;32md:\\Aaradhya BCA\\Python home lab\\python.ipynb Cell 40\u001b[0m line \u001b[0;36m2\n\u001b[0;32m      <a href='vscode-notebook-cell:/d%3A/Aaradhya%20BCA/Python%20home%20lab/python.ipynb#X50sZmlsZQ%3D%3D?line=0'>1</a>\u001b[0m \u001b[39m# PROGRAM 40\u001b[39;00m\n\u001b[1;32m----> <a href='vscode-notebook-cell:/d%3A/Aaradhya%20BCA/Python%20home%20lab/python.ipynb#X50sZmlsZQ%3D%3D?line=1'>2</a>\u001b[0m s\u001b[39m=\u001b[39m {\u001b[39m1\u001b[39m,\u001b[39m2\u001b[39m,\u001b[39m4\u001b[39m,\u001b[39m\"\u001b[39m\u001b[39mbb\u001b[39m\u001b[39m\"\u001b[39m,\u001b[39m\"\u001b[39m\u001b[39mcc\u001b[39m\u001b[39m\"\u001b[39m, [\u001b[39m4\u001b[39m,\u001b[39m7\u001b[39m,\u001b[39m\"\u001b[39m\u001b[39mdd\u001b[39m\u001b[39m\"\u001b[39m]}                                                                                                                  \n",
      "\u001b[1;31mTypeError\u001b[0m: unhashable type: 'list'"
     ]
    }
   ],
   "source": [
    "# PROGRAM 40\n",
    "s= {1,2,4,\"bb\",\"cc\", [4,7,\"dd\"]}                                                                                                                  "
   ]
  }
 ],
 "metadata": {
  "kernelspec": {
   "display_name": "Python 3",
   "language": "python",
   "name": "python3"
  },
  "language_info": {
   "codemirror_mode": {
    "name": "ipython",
    "version": 3
   },
   "file_extension": ".py",
   "mimetype": "text/x-python",
   "name": "python",
   "nbconvert_exporter": "python",
   "pygments_lexer": "ipython3",
   "version": "3.11.5"
  }
 },
 "nbformat": 4,
 "nbformat_minor": 2
}
